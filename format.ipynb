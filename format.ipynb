{
 "cells": [
  {
   "cell_type": "markdown",
   "id": "3d56daba",
   "metadata": {},
   "source": [
    "# Format and export the experimental results\n",
    "\n",
    "#### Authors\n",
    "\n",
    "* Juan Carlos Alfaro Jiménez\n",
    "* Juan Ángel Aledo Sánchez\n",
    "* José Antonio Gámez Martín\n",
    "\n",
    "In this notebook, we format and export (`.csv` and `.tex` files) the experimental results. Below, we detail the steps."
   ]
  },
  {
   "cell_type": "markdown",
   "id": "569d7dcc",
   "metadata": {},
   "source": [
    "## 1. Arguments\n",
    "\n",
    "First, we add the command line arguments:"
   ]
  },
  {
   "cell_type": "code",
   "execution_count": null,
   "id": "cbec3a61",
   "metadata": {},
   "outputs": [],
   "source": [
    "import argparse"
   ]
  },
  {
   "cell_type": "code",
   "execution_count": null,
   "id": "0180ae36",
   "metadata": {},
   "outputs": [],
   "source": [
    "description = \"Format and export the experimental results.\""
   ]
  },
  {
   "cell_type": "code",
   "execution_count": null,
   "id": "ff7f8dac",
   "metadata": {},
   "outputs": [],
   "source": [
    "parser = argparse.ArgumentParser(description=description)"
   ]
  },
  {
   "cell_type": "markdown",
   "id": "a7f592d2",
   "metadata": {},
   "source": [
    "* The path to the experimental results:"
   ]
  },
  {
   "cell_type": "code",
   "execution_count": null,
   "id": "99d00137",
   "metadata": {},
   "outputs": [],
   "source": [
    "arg = \"--source\""
   ]
  },
  {
   "cell_type": "code",
   "execution_count": null,
   "id": "8018edc9",
   "metadata": {},
   "outputs": [],
   "source": [
    "type = str"
   ]
  },
  {
   "cell_type": "code",
   "execution_count": null,
   "id": "e6dd5d36",
   "metadata": {},
   "outputs": [],
   "source": [
    "help = \"Path to the experimental results\""
   ]
  },
  {
   "cell_type": "code",
   "execution_count": null,
   "id": "9466dd9a",
   "metadata": {},
   "outputs": [],
   "source": [
    "parser.add_argument(arg, type=type, help=help);"
   ]
  },
  {
   "cell_type": "markdown",
   "id": "f6d63fbf",
   "metadata": {},
   "source": [
    "* The path to the tables:"
   ]
  },
  {
   "cell_type": "code",
   "execution_count": null,
   "id": "74da31fd",
   "metadata": {},
   "outputs": [],
   "source": [
    "arg = \"--destination\""
   ]
  },
  {
   "cell_type": "code",
   "execution_count": null,
   "id": "93e5f22a",
   "metadata": {},
   "outputs": [],
   "source": [
    "type = str"
   ]
  },
  {
   "cell_type": "code",
   "execution_count": null,
   "id": "feced60f",
   "metadata": {},
   "outputs": [],
   "source": [
    "help = \"Path to the tables\""
   ]
  },
  {
   "cell_type": "code",
   "execution_count": null,
   "id": "879bd081",
   "metadata": {},
   "outputs": [],
   "source": [
    "parser.add_argument(arg, type=type, help=help);"
   ]
  },
  {
   "cell_type": "markdown",
   "id": "b2b71f08",
   "metadata": {},
   "source": [
    "* The name of the target output variable:"
   ]
  },
  {
   "cell_type": "code",
   "execution_count": null,
   "id": "94aba0c1",
   "metadata": {},
   "outputs": [],
   "source": [
    "arg = \"--output\""
   ]
  },
  {
   "cell_type": "code",
   "execution_count": null,
   "id": "97d2ba51",
   "metadata": {},
   "outputs": [],
   "source": [
    "default = \"test_score\""
   ]
  },
  {
   "cell_type": "code",
   "execution_count": null,
   "id": "5142865b",
   "metadata": {},
   "outputs": [],
   "source": [
    "type = str"
   ]
  },
  {
   "cell_type": "code",
   "execution_count": null,
   "id": "8dbfa182",
   "metadata": {},
   "outputs": [],
   "source": [
    "help = \"Name of the target output variable\""
   ]
  },
  {
   "cell_type": "code",
   "execution_count": null,
   "id": "a289ed5a",
   "metadata": {},
   "outputs": [],
   "source": [
    "parser.add_argument(arg, default=default, type=type, help=help);"
   ]
  },
  {
   "cell_type": "markdown",
   "id": "b92a24a8",
   "metadata": {},
   "source": [
    "* The number of decimal digits for the numeric output:"
   ]
  },
  {
   "cell_type": "code",
   "execution_count": null,
   "id": "5a039ec9",
   "metadata": {},
   "outputs": [],
   "source": [
    "arg = \"--digits\""
   ]
  },
  {
   "cell_type": "code",
   "execution_count": null,
   "id": "7ce9ef3e",
   "metadata": {},
   "outputs": [],
   "source": [
    "default = 3"
   ]
  },
  {
   "cell_type": "code",
   "execution_count": null,
   "id": "6ca74b87",
   "metadata": {},
   "outputs": [],
   "source": [
    "type = int"
   ]
  },
  {
   "cell_type": "code",
   "execution_count": null,
   "id": "949745c7",
   "metadata": {},
   "outputs": [],
   "source": [
    "help = \"Number of decimal digits for the numeric output\""
   ]
  },
  {
   "cell_type": "code",
   "execution_count": null,
   "id": "c24cbd29",
   "metadata": {},
   "outputs": [],
   "source": [
    "parser.add_argument(arg, default=default, type=type, help=help);"
   ]
  },
  {
   "cell_type": "markdown",
   "id": "10073d97",
   "metadata": {},
   "source": [
    "* The methods to filter:"
   ]
  },
  {
   "cell_type": "code",
   "execution_count": null,
   "id": "4fdd2e95",
   "metadata": {},
   "outputs": [],
   "source": [
    "arg = \"--methods\""
   ]
  },
  {
   "cell_type": "code",
   "execution_count": null,
   "id": "d2cda791",
   "metadata": {},
   "outputs": [],
   "source": [
    "default = \".*\""
   ]
  },
  {
   "cell_type": "code",
   "execution_count": null,
   "id": "45abc565",
   "metadata": {},
   "outputs": [],
   "source": [
    "type = str"
   ]
  },
  {
   "cell_type": "code",
   "execution_count": null,
   "id": "75d16883",
   "metadata": {},
   "outputs": [],
   "source": [
    "help = \"Methods to filter\""
   ]
  },
  {
   "cell_type": "code",
   "execution_count": null,
   "id": "bd3a2352",
   "metadata": {},
   "outputs": [],
   "source": [
    "parser.add_argument(arg, default=default, type=type, help=help);"
   ]
  },
  {
   "cell_type": "markdown",
   "id": "9a907896",
   "metadata": {},
   "source": [
    "* The datasets to filter:"
   ]
  },
  {
   "cell_type": "code",
   "execution_count": null,
   "id": "672259fe",
   "metadata": {},
   "outputs": [],
   "source": [
    "arg = \"--datasets\""
   ]
  },
  {
   "cell_type": "code",
   "execution_count": null,
   "id": "d756d0e3",
   "metadata": {},
   "outputs": [],
   "source": [
    "default = \".*\""
   ]
  },
  {
   "cell_type": "code",
   "execution_count": null,
   "id": "a4ca565d",
   "metadata": {},
   "outputs": [],
   "source": [
    "type = str"
   ]
  },
  {
   "cell_type": "code",
   "execution_count": null,
   "id": "bf76d676",
   "metadata": {},
   "outputs": [],
   "source": [
    "help = \"Datasets to filter\""
   ]
  },
  {
   "cell_type": "code",
   "execution_count": null,
   "id": "b5e3da86",
   "metadata": {},
   "outputs": [],
   "source": [
    "parser.add_argument(arg, default=default, type=type, help=help);"
   ]
  },
  {
   "cell_type": "markdown",
   "id": "172f3487",
   "metadata": {},
   "source": [
    "Now, we parse the command line arguments:"
   ]
  },
  {
   "cell_type": "code",
   "execution_count": null,
   "id": "557c3d0c",
   "metadata": {},
   "outputs": [],
   "source": [
    "from pathlib import Path"
   ]
  },
  {
   "cell_type": "code",
   "execution_count": null,
   "id": "da4b355b",
   "metadata": {},
   "outputs": [],
   "source": [
    "arguments = Path(\"arguments.txt\").read_text(\"utf-8\").split(\" \")"
   ]
  },
  {
   "cell_type": "code",
   "execution_count": null,
   "id": "d83cedec",
   "metadata": {
    "scrolled": true
   },
   "outputs": [],
   "source": [
    "args = parser.parse_args(arguments)"
   ]
  },
  {
   "cell_type": "markdown",
   "id": "3ccf5419",
   "metadata": {},
   "source": [
    "And rename the variables:"
   ]
  },
  {
   "cell_type": "code",
   "execution_count": null,
   "id": "18f61966",
   "metadata": {},
   "outputs": [],
   "source": [
    "source = args.source"
   ]
  },
  {
   "cell_type": "code",
   "execution_count": null,
   "id": "6a2d2cc3",
   "metadata": {},
   "outputs": [],
   "source": [
    "source"
   ]
  },
  {
   "cell_type": "code",
   "execution_count": null,
   "id": "cb8d468a",
   "metadata": {},
   "outputs": [],
   "source": [
    "destination = args.destination"
   ]
  },
  {
   "cell_type": "code",
   "execution_count": null,
   "id": "ab201b50",
   "metadata": {},
   "outputs": [],
   "source": [
    "destination"
   ]
  },
  {
   "cell_type": "code",
   "execution_count": null,
   "id": "457e9672",
   "metadata": {},
   "outputs": [],
   "source": [
    "output = args.output"
   ]
  },
  {
   "cell_type": "code",
   "execution_count": null,
   "id": "485727c6",
   "metadata": {},
   "outputs": [],
   "source": [
    "output"
   ]
  },
  {
   "cell_type": "code",
   "execution_count": null,
   "id": "de4fc30d",
   "metadata": {},
   "outputs": [],
   "source": [
    "digits = args.digits"
   ]
  },
  {
   "cell_type": "code",
   "execution_count": null,
   "id": "648ecaa2",
   "metadata": {},
   "outputs": [],
   "source": [
    "digits"
   ]
  },
  {
   "cell_type": "code",
   "execution_count": null,
   "id": "fa81573b",
   "metadata": {},
   "outputs": [],
   "source": [
    "methods = args.methods"
   ]
  },
  {
   "cell_type": "code",
   "execution_count": null,
   "id": "9a1f86a7",
   "metadata": {},
   "outputs": [],
   "source": [
    "methods"
   ]
  },
  {
   "cell_type": "code",
   "execution_count": null,
   "id": "cbac907d",
   "metadata": {},
   "outputs": [],
   "source": [
    "datasets = args.datasets"
   ]
  },
  {
   "cell_type": "code",
   "execution_count": null,
   "id": "94f0bea5",
   "metadata": {},
   "outputs": [],
   "source": [
    "datasets"
   ]
  },
  {
   "cell_type": "markdown",
   "id": "92793695",
   "metadata": {},
   "source": [
    "## 2. Load\n",
    "\n",
    "Second, we get the files with the experiments results (`source`):"
   ]
  },
  {
   "cell_type": "code",
   "execution_count": null,
   "id": "670ac905",
   "metadata": {},
   "outputs": [],
   "source": [
    "import os"
   ]
  },
  {
   "cell_type": "code",
   "execution_count": null,
   "id": "87084439",
   "metadata": {},
   "outputs": [],
   "source": [
    "pattern = os.path.join(\"work\", source, \"**\", \"*.csv\")"
   ]
  },
  {
   "cell_type": "code",
   "execution_count": null,
   "id": "1b7e41a5",
   "metadata": {},
   "outputs": [],
   "source": [
    "import glob"
   ]
  },
  {
   "cell_type": "code",
   "execution_count": null,
   "id": "e99eb877",
   "metadata": {},
   "outputs": [],
   "source": [
    "files = glob.glob(pattern, recursive=True)"
   ]
  },
  {
   "cell_type": "markdown",
   "id": "939f6749",
   "metadata": {},
   "source": [
    "Now, we filter the methods (`methods`) and datasets (`datasets`):"
   ]
  },
  {
   "cell_type": "code",
   "execution_count": null,
   "id": "04226515",
   "metadata": {},
   "outputs": [],
   "source": [
    "import re"
   ]
  },
  {
   "cell_type": "code",
   "execution_count": null,
   "id": "a0ec6022",
   "metadata": {},
   "outputs": [],
   "source": [
    "pattern = os.path.join(\"work\", \".*\", datasets, methods + \".csv\")"
   ]
  },
  {
   "cell_type": "code",
   "execution_count": null,
   "id": "176bd7fa",
   "metadata": {},
   "outputs": [],
   "source": [
    "r = re.compile(pattern)"
   ]
  },
  {
   "cell_type": "code",
   "execution_count": null,
   "id": "bfeca712",
   "metadata": {},
   "outputs": [],
   "source": [
    "files = filter(r.match, files)"
   ]
  },
  {
   "cell_type": "markdown",
   "id": "b738dcd8",
   "metadata": {},
   "source": [
    "Finally, we read the experimental results for the target output variable (`output`) and include a column with the file:"
   ]
  },
  {
   "cell_type": "code",
   "execution_count": null,
   "id": "9624924b",
   "metadata": {},
   "outputs": [],
   "source": [
    "usecols = [output]"
   ]
  },
  {
   "cell_type": "code",
   "execution_count": null,
   "id": "e13af451",
   "metadata": {},
   "outputs": [],
   "source": [
    "import pandas as pd"
   ]
  },
  {
   "cell_type": "code",
   "execution_count": null,
   "id": "b96976bb",
   "metadata": {},
   "outputs": [],
   "source": [
    "read_csv = lambda file: pd.read_csv(file, usecols=usecols).assign(file=file)"
   ]
  },
  {
   "cell_type": "code",
   "execution_count": null,
   "id": "d8bab413",
   "metadata": {},
   "outputs": [],
   "source": [
    "objs = map(read_csv, files)"
   ]
  },
  {
   "cell_type": "code",
   "execution_count": null,
   "id": "4ce0c8e9",
   "metadata": {
    "scrolled": true
   },
   "outputs": [],
   "source": [
    "results = pd.concat(objs)"
   ]
  },
  {
   "cell_type": "code",
   "execution_count": null,
   "id": "3bff1e17",
   "metadata": {},
   "outputs": [],
   "source": [
    "results"
   ]
  },
  {
   "cell_type": "markdown",
   "id": "89742124",
   "metadata": {},
   "source": [
    "## 3. Format\n",
    "\n",
    "Third, we extract the method and the dataset from the filename:"
   ]
  },
  {
   "cell_type": "code",
   "execution_count": null,
   "id": "64f5054c",
   "metadata": {},
   "outputs": [],
   "source": [
    "df = results.file.str.split(os.sep, expand=True)"
   ]
  },
  {
   "cell_type": "code",
   "execution_count": null,
   "id": "ffd1dd59",
   "metadata": {},
   "outputs": [],
   "source": [
    "df = df.iloc[:, -2:]"
   ]
  },
  {
   "cell_type": "code",
   "execution_count": null,
   "id": "73b05af4",
   "metadata": {},
   "outputs": [],
   "source": [
    "df.columns = [\"dataset\", \"method\"]"
   ]
  },
  {
   "cell_type": "code",
   "execution_count": null,
   "id": "4ccb6091",
   "metadata": {},
   "outputs": [],
   "source": [
    "df[\"method\"] = df.method.str.replace(\".csv\", \"\", regex=False)"
   ]
  },
  {
   "cell_type": "code",
   "execution_count": null,
   "id": "f42b5650",
   "metadata": {},
   "outputs": [],
   "source": [
    "df"
   ]
  },
  {
   "cell_type": "markdown",
   "id": "072ecdf7",
   "metadata": {},
   "source": [
    "And include this information in the experimental results:"
   ]
  },
  {
   "cell_type": "code",
   "execution_count": null,
   "id": "d9c7d9c7",
   "metadata": {},
   "outputs": [],
   "source": [
    "results = results.drop(\"file\", axis=1)"
   ]
  },
  {
   "cell_type": "code",
   "execution_count": null,
   "id": "455d2be8",
   "metadata": {},
   "outputs": [],
   "source": [
    "objs = [results, df]"
   ]
  },
  {
   "cell_type": "code",
   "execution_count": null,
   "id": "b49773ee",
   "metadata": {},
   "outputs": [],
   "source": [
    "results = pd.concat(objs, axis=1)"
   ]
  },
  {
   "cell_type": "code",
   "execution_count": null,
   "id": "a5d03e8a",
   "metadata": {},
   "outputs": [],
   "source": [
    "results"
   ]
  },
  {
   "cell_type": "markdown",
   "id": "71919b43",
   "metadata": {},
   "source": [
    "Now, we group by `method` and `dataset` and compute the mean and standard deviation:"
   ]
  },
  {
   "cell_type": "code",
   "execution_count": null,
   "id": "3125beb6",
   "metadata": {},
   "outputs": [],
   "source": [
    "by = [\"method\", \"dataset\"]"
   ]
  },
  {
   "cell_type": "code",
   "execution_count": null,
   "id": "2199f91b",
   "metadata": {},
   "outputs": [],
   "source": [
    "func = [\"mean\", \"std\"]"
   ]
  },
  {
   "cell_type": "code",
   "execution_count": null,
   "id": "ce517de2",
   "metadata": {},
   "outputs": [],
   "source": [
    "results = results.groupby(by).agg(func)"
   ]
  },
  {
   "cell_type": "code",
   "execution_count": null,
   "id": "ed8ce5b8",
   "metadata": {},
   "outputs": [],
   "source": [
    "results"
   ]
  },
  {
   "cell_type": "markdown",
   "id": "ff464411",
   "metadata": {},
   "source": [
    "And extract the statistics:"
   ]
  },
  {
   "cell_type": "code",
   "execution_count": null,
   "id": "583e50c7",
   "metadata": {},
   "outputs": [],
   "source": [
    "level = -1"
   ]
  },
  {
   "cell_type": "code",
   "execution_count": null,
   "id": "9eb91a4c",
   "metadata": {},
   "outputs": [],
   "source": [
    "mean = results[output][\"mean\"].unstack(level=level)"
   ]
  },
  {
   "cell_type": "code",
   "execution_count": null,
   "id": "8a09ca79",
   "metadata": {},
   "outputs": [],
   "source": [
    "mean"
   ]
  },
  {
   "cell_type": "code",
   "execution_count": null,
   "id": "8a0d9156",
   "metadata": {},
   "outputs": [],
   "source": [
    "std = results[output][\"std\"].unstack(level=level)"
   ]
  },
  {
   "cell_type": "code",
   "execution_count": null,
   "id": "4f42978e",
   "metadata": {},
   "outputs": [],
   "source": [
    "std"
   ]
  },
  {
   "cell_type": "markdown",
   "id": "b87a5d4b",
   "metadata": {},
   "source": [
    "Then, we round by the number of decimal digits for the numeric output (`digits`):"
   ]
  },
  {
   "cell_type": "code",
   "execution_count": null,
   "id": "567cd32a",
   "metadata": {},
   "outputs": [],
   "source": [
    "func = (\"{:\" + \".\" + \"{digits}\" + \"f}\").format"
   ]
  },
  {
   "cell_type": "code",
   "execution_count": null,
   "id": "07675d20",
   "metadata": {},
   "outputs": [],
   "source": [
    "mean = mean.round(digits).applymap(func, digits=digits)"
   ]
  },
  {
   "cell_type": "code",
   "execution_count": null,
   "id": "062a5418",
   "metadata": {},
   "outputs": [],
   "source": [
    "mean"
   ]
  },
  {
   "cell_type": "code",
   "execution_count": null,
   "id": "6ca703d5",
   "metadata": {},
   "outputs": [],
   "source": [
    "std = std.round(digits).applymap(func, digits=digits)"
   ]
  },
  {
   "cell_type": "code",
   "execution_count": null,
   "id": "0a68d118",
   "metadata": {},
   "outputs": [],
   "source": [
    "std"
   ]
  },
  {
   "cell_type": "markdown",
   "id": "ffe10594",
   "metadata": {},
   "source": [
    "Finally, we create a tabular with the mean and standard deviation:"
   ]
  },
  {
   "cell_type": "code",
   "execution_count": null,
   "id": "27af92e8",
   "metadata": {},
   "outputs": [],
   "source": [
    "tabular = mean + \" $ \" + \"\\pm\" + \" $ \" + std"
   ]
  },
  {
   "cell_type": "code",
   "execution_count": null,
   "id": "558d6d2b",
   "metadata": {},
   "outputs": [],
   "source": [
    "tabular"
   ]
  },
  {
   "cell_type": "markdown",
   "id": "b54e69cc",
   "metadata": {},
   "source": [
    "## 4. Export\n",
    "\n",
    "Fourth, we export the mean and tabular information to the directory with the tables (`destination`):"
   ]
  },
  {
   "cell_type": "code",
   "execution_count": null,
   "id": "030b3524",
   "metadata": {},
   "outputs": [],
   "source": [
    "destination = os.path.join(\"work\", destination, output)"
   ]
  },
  {
   "cell_type": "code",
   "execution_count": null,
   "id": "d3e1bfc6",
   "metadata": {},
   "outputs": [],
   "source": [
    "Path(destination).mkdir(parents=True, exist_ok=True)"
   ]
  },
  {
   "cell_type": "code",
   "execution_count": null,
   "id": "40b0aa68",
   "metadata": {},
   "outputs": [],
   "source": [
    "csv = os.path.join(destination, \"mean.csv\")"
   ]
  },
  {
   "cell_type": "code",
   "execution_count": null,
   "id": "4c361df4",
   "metadata": {},
   "outputs": [],
   "source": [
    "mean.to_csv(csv)"
   ]
  },
  {
   "cell_type": "code",
   "execution_count": null,
   "id": "bf5dea76",
   "metadata": {},
   "outputs": [],
   "source": [
    "tex = os.path.join(destination, \"tabular.tex\")"
   ]
  },
  {
   "cell_type": "code",
   "execution_count": null,
   "id": "4d0712a0",
   "metadata": {},
   "outputs": [],
   "source": [
    "tabular.to_latex(tex, escape=False)"
   ]
  },
  {
   "cell_type": "markdown",
   "id": "1ceab36c",
   "metadata": {},
   "source": [
    "Finally, we write the destination directory in a file for the `HTML` export:"
   ]
  },
  {
   "cell_type": "code",
   "execution_count": null,
   "id": "35783085",
   "metadata": {},
   "outputs": [],
   "source": [
    "Path(\"destination.txt\").write_text(destination, encoding=\"utf-8\");"
   ]
  }
 ],
 "metadata": {
  "kernelspec": {
   "display_name": "Python 3 (ipykernel)",
   "language": "python",
   "name": "python3"
  },
  "language_info": {
   "codemirror_mode": {
    "name": "ipython",
    "version": 3
   },
   "file_extension": ".py",
   "mimetype": "text/x-python",
   "name": "python",
   "nbconvert_exporter": "python",
   "pygments_lexer": "ipython3",
   "version": "3.9.6"
  }
 },
 "nbformat": 4,
 "nbformat_minor": 5
}
